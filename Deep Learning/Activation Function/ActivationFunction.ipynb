{
  "nbformat": 4,
  "nbformat_minor": 0,
  "metadata": {
    "colab": {
      "name": "ActivationFunction.ipynb",
      "provenance": [],
      "collapsed_sections": []
    },
    "kernelspec": {
      "name": "python3",
      "display_name": "Python 3"
    },
    "language_info": {
      "name": "python"
    }
  },
  "cells": [
    {
      "cell_type": "code",
      "metadata": {
        "id": "9hDB0V2ePcqd"
      },
      "source": [
        "import math"
      ],
      "execution_count": null,
      "outputs": []
    },
    {
      "cell_type": "code",
      "metadata": {
        "id": "gzXqV8i-PoZU"
      },
      "source": [
        "def sigmoid(x):\n",
        "  #sigmoid = 1/1+e^-x\n",
        "  eq = 1/(1+math.exp(-x))\n",
        "  return eq"
      ],
      "execution_count": null,
      "outputs": []
    },
    {
      "cell_type": "code",
      "metadata": {
        "colab": {
          "base_uri": "https://localhost:8080/"
        },
        "id": "6QbS2l9dPzuR",
        "outputId": "dcdaafd2-8f55-4df3-c6e0-1ba3422f449b"
      },
      "source": [
        "sigmoid(89)"
      ],
      "execution_count": null,
      "outputs": [
        {
          "output_type": "execute_result",
          "data": {
            "text/plain": [
              "1.0"
            ]
          },
          "metadata": {
            "tags": []
          },
          "execution_count": 14
        }
      ]
    },
    {
      "cell_type": "code",
      "metadata": {
        "id": "ZooEav42P3aw"
      },
      "source": [
        "def tanh(x):\n",
        "  #tanh = (e^x - e^-x) / (e^x + e^-x)\n",
        "  eq = (math.exp(x)-math.exp(-x))/(math.exp(x)+math.exp(-x))\n",
        "  return eq  "
      ],
      "execution_count": null,
      "outputs": []
    },
    {
      "cell_type": "code",
      "metadata": {
        "colab": {
          "base_uri": "https://localhost:8080/"
        },
        "id": "jGjypiHCQXO6",
        "outputId": "d44c2591-8c9a-46b3-eb01-b4146636b7ac"
      },
      "source": [
        "tanh(1)"
      ],
      "execution_count": null,
      "outputs": [
        {
          "output_type": "execute_result",
          "data": {
            "text/plain": [
              "0.7615941559557649"
            ]
          },
          "metadata": {
            "tags": []
          },
          "execution_count": 16
        }
      ]
    },
    {
      "cell_type": "code",
      "metadata": {
        "id": "1FBfRpZ_QdLw"
      },
      "source": [
        "def relu(x):\n",
        "  #relu = max(0,x)\n",
        "  eq = max(0,x)\n",
        "  return eq"
      ],
      "execution_count": null,
      "outputs": []
    },
    {
      "cell_type": "code",
      "metadata": {
        "colab": {
          "base_uri": "https://localhost:8080/"
        },
        "id": "dctHdWFNQ_SQ",
        "outputId": "caf9823b-1287-4ba6-a6c1-64727aabd59a"
      },
      "source": [
        "relu(-9)"
      ],
      "execution_count": null,
      "outputs": [
        {
          "output_type": "execute_result",
          "data": {
            "text/plain": [
              "0"
            ]
          },
          "metadata": {
            "tags": []
          },
          "execution_count": 19
        }
      ]
    },
    {
      "cell_type": "code",
      "metadata": {
        "id": "wPt6xOyeRA4n"
      },
      "source": [
        "def leaky_relu(x):\n",
        "  #leaky relu = max(0.1x,x)\n",
        "  eq = max(0.1*x,x)\n",
        "  return eq "
      ],
      "execution_count": null,
      "outputs": []
    },
    {
      "cell_type": "code",
      "metadata": {
        "colab": {
          "base_uri": "https://localhost:8080/"
        },
        "id": "IOaLnpXcRVKo",
        "outputId": "833f2c2b-c74f-4535-b6ae-11132bd8a3c1"
      },
      "source": [
        "leaky_relu(-3)"
      ],
      "execution_count": null,
      "outputs": [
        {
          "output_type": "execute_result",
          "data": {
            "text/plain": [
              "-0.30000000000000004"
            ]
          },
          "metadata": {
            "tags": []
          },
          "execution_count": 22
        }
      ]
    },
    {
      "cell_type": "code",
      "metadata": {
        "id": "vYA0jDFWReHH"
      },
      "source": [
        ""
      ],
      "execution_count": null,
      "outputs": []
    }
  ]
}