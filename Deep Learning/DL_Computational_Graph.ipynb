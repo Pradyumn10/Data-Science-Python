{
  "nbformat": 4,
  "nbformat_minor": 0,
  "metadata": {
    "colab": {
      "name": "DL-Computational Graph.ipynb",
      "provenance": [],
      "collapsed_sections": []
    },
    "kernelspec": {
      "name": "python3",
      "display_name": "Python 3"
    },
    "language_info": {
      "name": "python"
    }
  },
  "cells": [
    {
      "cell_type": "code",
      "metadata": {
        "id": "NeP8K6HrOEbB",
        "colab": {
          "base_uri": "https://localhost:8080/",
          "height": 35
        },
        "outputId": "3e45fb77-6c4c-4e30-cd0a-684cf813c8f2"
      },
      "source": [
        "import tensorflow as tf\n",
        "tf.compat.v1.disable_eager_execution()\n",
        "tf.__version__"
      ],
      "execution_count": null,
      "outputs": [
        {
          "output_type": "execute_result",
          "data": {
            "application/vnd.google.colaboratory.intrinsic+json": {
              "type": "string"
            },
            "text/plain": [
              "'2.5.0'"
            ]
          },
          "metadata": {
            "tags": []
          },
          "execution_count": 6
        }
      ]
    },
    {
      "cell_type": "code",
      "metadata": {
        "id": "Y2_EJsinOWrX"
      },
      "source": [
        "#creating a simple graph in session using constant(preferred approach)\n",
        "x1= tf.constant(1)\n",
        "x2=tf.constant(2)\n",
        "z=tf.add(x1,x2)"
      ],
      "execution_count": null,
      "outputs": []
    },
    {
      "cell_type": "code",
      "metadata": {
        "colab": {
          "base_uri": "https://localhost:8080/"
        },
        "id": "CMuABNcROfvy",
        "outputId": "4ecbfd1a-7e03-4df4-db09-937dd2638e06"
      },
      "source": [
        "#creating a session to run tensor\n",
        "sess = tf.compat.v1.Session()\n",
        "print(sess.run(z))"
      ],
      "execution_count": null,
      "outputs": [
        {
          "output_type": "stream",
          "text": [
            "3\n"
          ],
          "name": "stdout"
        }
      ]
    },
    {
      "cell_type": "code",
      "metadata": {
        "id": "YHIHBi9-Ox8g"
      },
      "source": [
        "sess.close()"
      ],
      "execution_count": null,
      "outputs": []
    },
    {
      "cell_type": "code",
      "metadata": {
        "id": "Jl_-q1ibQOxn"
      },
      "source": [
        "# creating computational graph with variables\n",
        "x1=tf.Variable(1)\n",
        "x2=tf.Variable(2)\n",
        "z=tf.add(x1,x2)"
      ],
      "execution_count": null,
      "outputs": []
    },
    {
      "cell_type": "code",
      "metadata": {
        "colab": {
          "base_uri": "https://localhost:8080/"
        },
        "id": "mlg9GOtfftbP",
        "outputId": "7ed2485a-dbce-45b8-bd8f-c6e5320d51df"
      },
      "source": [
        "sess = tf.compat.v1.Session()\n",
        "init = tf.compat.v1.global_variables_initializer()\n",
        "sess.run(init)\n",
        "print(sess.run(z))\n",
        "sess.close()"
      ],
      "execution_count": null,
      "outputs": [
        {
          "output_type": "stream",
          "text": [
            "3\n"
          ],
          "name": "stdout"
        }
      ]
    },
    {
      "cell_type": "code",
      "metadata": {
        "id": "3XevQoDTgxNM"
      },
      "source": [
        "#creating computational graph with tf.placeholder\n",
        "#if you want to add more value into dictonary then increase the size of matrix i.e instead of 1 write 2\n",
        "x1=tf.compat.v1.placeholder(tf.float32,1)\n",
        "x2=tf.compat.v1.placeholder(tf.float32,1)\n",
        "z=tf.add(x1,x2)"
      ],
      "execution_count": null,
      "outputs": []
    },
    {
      "cell_type": "code",
      "metadata": {
        "id": "pEIcmHnkaSH5"
      },
      "source": [
        "sess = tf.compat.v1.Session()"
      ],
      "execution_count": null,
      "outputs": []
    },
    {
      "cell_type": "code",
      "metadata": {
        "id": "lGXFMBpgaoB2"
      },
      "source": [
        "feed_dict = {x1:[1], x2:[2]}"
      ],
      "execution_count": null,
      "outputs": []
    },
    {
      "cell_type": "code",
      "metadata": {
        "colab": {
          "base_uri": "https://localhost:8080/"
        },
        "id": "lNn2TuDqbIl8",
        "outputId": "5522b6ec-3169-4f1d-fd41-cbb9cf4c5dd5"
      },
      "source": [
        "print(sess.run(z,feed_dict))"
      ],
      "execution_count": null,
      "outputs": [
        {
          "output_type": "stream",
          "text": [
            "[3.]\n"
          ],
          "name": "stdout"
        }
      ]
    },
    {
      "cell_type": "code",
      "metadata": {
        "id": "lLEPBlTQcR8B"
      },
      "source": [
        "sess.close()"
      ],
      "execution_count": null,
      "outputs": []
    },
    {
      "cell_type": "code",
      "metadata": {
        "id": "4YHv0bcnbME8"
      },
      "source": [
        ""
      ],
      "execution_count": null,
      "outputs": []
    }
  ]
}