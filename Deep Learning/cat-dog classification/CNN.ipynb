{
  "nbformat": 4,
  "nbformat_minor": 0,
  "metadata": {
    "colab": {
      "name": "CNN.ipynb",
      "provenance": [],
      "collapsed_sections": []
    },
    "kernelspec": {
      "name": "python3",
      "display_name": "Python 3"
    },
    "language_info": {
      "name": "python"
    },
    "accelerator": "GPU"
  },
  "cells": [
    {
      "cell_type": "code",
      "metadata": {
        "id": "xgfK1Dp4njp-"
      },
      "source": [
        "#%%\n",
        "#importing Modules\n",
        "import tensorflow as tf\n",
        "from tensorflow import keras\n",
        "import keras\n",
        "import pandas as pd\n",
        "from keras.preprocessing.image import ImageDataGenerator"
      ],
      "execution_count": null,
      "outputs": []
    },
    {
      "cell_type": "code",
      "metadata": {
        "id": "sofx-bCAfzvM"
      },
      "source": [
        ""
      ],
      "execution_count": null,
      "outputs": []
    },
    {
      "cell_type": "code",
      "metadata": {
        "colab": {
          "base_uri": "https://localhost:8080/"
        },
        "id": "BNcyKlsdoG9u",
        "outputId": "9ac128f3-3a17-4eb3-db11-bb8d378e095c"
      },
      "source": [
        "#Processing the training Data\n",
        "train_datagen = ImageDataGenerator(rescale = 1./255,\n",
        "                                   shear_range = 0.2,\n",
        "                                   zoom_range = 0.2,\n",
        "                                   horizontal_flip = True)\n",
        "#64*64 is the size of img array with a batch size of 32\n",
        "training_set = train_datagen.flow_from_directory('/content/drive/MyDrive/Colab Notebooks/data/dataset/training_set',\n",
        "                                                 target_size = (64, 64),\n",
        "                                                 batch_size = 32,\n",
        "                                                 class_mode = 'binary')"
      ],
      "execution_count": null,
      "outputs": [
        {
          "output_type": "stream",
          "text": [
            "Found 7997 images belonging to 2 classes.\n"
          ],
          "name": "stdout"
        }
      ]
    },
    {
      "cell_type": "markdown",
      "metadata": {
        "id": "bwkDkOmBrAeu"
      },
      "source": [
        "**Feature Learning**"
      ]
    },
    {
      "cell_type": "code",
      "metadata": {
        "colab": {
          "base_uri": "https://localhost:8080/"
        },
        "id": "uqHT7aN8pz6v",
        "outputId": "048f8dbb-ad58-4c08-da83-745d5ac62ed5"
      },
      "source": [
        "#%%\n",
        "#Preprocesing the testing dataset\n",
        "test_datagen = ImageDataGenerator(rescale = 1./255)\n",
        "test_set = test_datagen.flow_from_directory('/content/drive/MyDrive/Colab Notebooks/data/dataset/test_set',\n",
        "                                            target_size = (64, 64),\n",
        "                                            batch_size = 32,\n",
        "                                            class_mode = 'binary')"
      ],
      "execution_count": null,
      "outputs": [
        {
          "output_type": "stream",
          "text": [
            "Found 2000 images belonging to 2 classes.\n"
          ],
          "name": "stdout"
        }
      ]
    },
    {
      "cell_type": "code",
      "metadata": {
        "id": "UhQedwe-p0Kn"
      },
      "source": [
        "#%%\n",
        "#building the convolutional network\n",
        "cnn = tf.keras.models.Sequential()"
      ],
      "execution_count": null,
      "outputs": []
    },
    {
      "cell_type": "code",
      "metadata": {
        "id": "YBoaD7s6p0O3"
      },
      "source": [
        "#%%\n",
        "#Convolutional Layer\n",
        "cnn.add(tf.keras.layers.Conv2D(filters=32, kernel_size=3, activation='relu', input_shape=[64, 64, 3]))"
      ],
      "execution_count": null,
      "outputs": []
    },
    {
      "cell_type": "code",
      "metadata": {
        "id": "OEd6cWIip0RQ"
      },
      "source": [
        "#%%\n",
        "#Pooling Layer\n",
        "cnn.add(tf.keras.layers.MaxPool2D(pool_size=2, strides=2))"
      ],
      "execution_count": null,
      "outputs": []
    },
    {
      "cell_type": "code",
      "metadata": {
        "id": "TLYvpqIzp0Tm"
      },
      "source": [
        "#%%\n",
        "#adding convolutional and pooling layer again\n",
        "cnn.add(tf.keras.layers.Conv2D(filters=32, kernel_size=3, activation='relu'))\n",
        "cnn.add(tf.keras.layers.MaxPool2D(pool_size=2, strides=2))"
      ],
      "execution_count": null,
      "outputs": []
    },
    {
      "cell_type": "markdown",
      "metadata": {
        "id": "TSgtobfyrIR9"
      },
      "source": [
        "**Classification**"
      ]
    },
    {
      "cell_type": "code",
      "metadata": {
        "id": "ZCo_TYYMqxeD"
      },
      "source": [
        "#%%\n",
        "#adding flattening layer\n",
        "cnn.add(tf.keras.layers.Flatten())"
      ],
      "execution_count": null,
      "outputs": []
    },
    {
      "cell_type": "code",
      "metadata": {
        "id": "wbzwFpPQqyQI"
      },
      "source": [
        "#%%\n",
        "#Full connection\n",
        "cnn.add(tf.keras.layers.Dense(units=128, activation='relu'))"
      ],
      "execution_count": null,
      "outputs": []
    },
    {
      "cell_type": "code",
      "metadata": {
        "id": "NUTq6OkAqyWM"
      },
      "source": [
        "#%%\n",
        "#Output layer\n",
        "cnn.add(tf.keras.layers.Dense(units=1, activation='sigmoid'))"
      ],
      "execution_count": null,
      "outputs": []
    },
    {
      "cell_type": "markdown",
      "metadata": {
        "id": "5_Teq4HjriD7"
      },
      "source": [
        "**Traning the CNN**"
      ]
    },
    {
      "cell_type": "code",
      "metadata": {
        "id": "r92x5WmTqycU"
      },
      "source": [
        "#%%\n",
        "#compiling\n",
        "cnn.compile(optimizer = 'adam', loss = 'binary_crossentropy', metrics = ['accuracy'])"
      ],
      "execution_count": null,
      "outputs": []
    },
    {
      "cell_type": "code",
      "metadata": {
        "colab": {
          "base_uri": "https://localhost:8080/"
        },
        "id": "uVnFrimDqyh0",
        "outputId": "5a9fea10-0435-449e-e37e-eaf6628202ea"
      },
      "source": [
        "#%%\n",
        "#training\n",
        "cnn.fit(x = training_set, validation_data = test_set, epochs = 25)"
      ],
      "execution_count": null,
      "outputs": [
        {
          "output_type": "stream",
          "text": [
            "Epoch 1/25\n",
            "250/250 [==============================] - 1051s 4s/step - loss: 0.6892 - accuracy: 0.5468 - val_loss: 0.6566 - val_accuracy: 0.6370\n",
            "Epoch 2/25\n",
            "250/250 [==============================] - 39s 154ms/step - loss: 0.6408 - accuracy: 0.6384 - val_loss: 0.5904 - val_accuracy: 0.6920\n",
            "Epoch 3/25\n",
            "250/250 [==============================] - 38s 152ms/step - loss: 0.5852 - accuracy: 0.6878 - val_loss: 0.5608 - val_accuracy: 0.7215\n",
            "Epoch 4/25\n",
            "250/250 [==============================] - 38s 152ms/step - loss: 0.5421 - accuracy: 0.7244 - val_loss: 0.5379 - val_accuracy: 0.7345\n",
            "Epoch 5/25\n",
            "250/250 [==============================] - 38s 153ms/step - loss: 0.5151 - accuracy: 0.7465 - val_loss: 0.5043 - val_accuracy: 0.7620\n",
            "Epoch 6/25\n",
            "250/250 [==============================] - 38s 152ms/step - loss: 0.4928 - accuracy: 0.7580 - val_loss: 0.5144 - val_accuracy: 0.7635\n",
            "Epoch 7/25\n",
            "250/250 [==============================] - 38s 153ms/step - loss: 0.4669 - accuracy: 0.7764 - val_loss: 0.5165 - val_accuracy: 0.7480\n",
            "Epoch 8/25\n",
            "250/250 [==============================] - 38s 151ms/step - loss: 0.4608 - accuracy: 0.7837 - val_loss: 0.4647 - val_accuracy: 0.7805\n",
            "Epoch 9/25\n",
            "250/250 [==============================] - 38s 152ms/step - loss: 0.4450 - accuracy: 0.7899 - val_loss: 0.4536 - val_accuracy: 0.7895\n",
            "Epoch 10/25\n",
            "250/250 [==============================] - 38s 152ms/step - loss: 0.4163 - accuracy: 0.8073 - val_loss: 0.4767 - val_accuracy: 0.7825\n",
            "Epoch 11/25\n",
            "250/250 [==============================] - 38s 152ms/step - loss: 0.4055 - accuracy: 0.8134 - val_loss: 0.4501 - val_accuracy: 0.7925\n",
            "Epoch 12/25\n",
            "250/250 [==============================] - 38s 150ms/step - loss: 0.3886 - accuracy: 0.8249 - val_loss: 0.4449 - val_accuracy: 0.7970\n",
            "Epoch 13/25\n",
            "250/250 [==============================] - 38s 151ms/step - loss: 0.3775 - accuracy: 0.8316 - val_loss: 0.4860 - val_accuracy: 0.7880\n",
            "Epoch 14/25\n",
            "250/250 [==============================] - 38s 150ms/step - loss: 0.3501 - accuracy: 0.8462 - val_loss: 0.5300 - val_accuracy: 0.7710\n",
            "Epoch 15/25\n",
            "250/250 [==============================] - 37s 150ms/step - loss: 0.3436 - accuracy: 0.8464 - val_loss: 0.5846 - val_accuracy: 0.7560\n",
            "Epoch 16/25\n",
            "250/250 [==============================] - 38s 150ms/step - loss: 0.3305 - accuracy: 0.8523 - val_loss: 0.4739 - val_accuracy: 0.8055\n",
            "Epoch 17/25\n",
            "250/250 [==============================] - 37s 150ms/step - loss: 0.3150 - accuracy: 0.8597 - val_loss: 0.4585 - val_accuracy: 0.8130\n",
            "Epoch 18/25\n",
            "250/250 [==============================] - 38s 150ms/step - loss: 0.2910 - accuracy: 0.8740 - val_loss: 0.4570 - val_accuracy: 0.8040\n",
            "Epoch 19/25\n",
            "250/250 [==============================] - 37s 149ms/step - loss: 0.2870 - accuracy: 0.8771 - val_loss: 0.4854 - val_accuracy: 0.7955\n",
            "Epoch 20/25\n",
            "250/250 [==============================] - 37s 149ms/step - loss: 0.2645 - accuracy: 0.8866 - val_loss: 0.5047 - val_accuracy: 0.8035\n",
            "Epoch 21/25\n",
            "250/250 [==============================] - 37s 150ms/step - loss: 0.2440 - accuracy: 0.8941 - val_loss: 0.5261 - val_accuracy: 0.8055\n",
            "Epoch 22/25\n",
            "250/250 [==============================] - 38s 152ms/step - loss: 0.2402 - accuracy: 0.9003 - val_loss: 0.5131 - val_accuracy: 0.8010\n",
            "Epoch 23/25\n",
            "250/250 [==============================] - 37s 149ms/step - loss: 0.2248 - accuracy: 0.9112 - val_loss: 0.6109 - val_accuracy: 0.7800\n",
            "Epoch 24/25\n",
            "250/250 [==============================] - 37s 149ms/step - loss: 0.2075 - accuracy: 0.9173 - val_loss: 0.5817 - val_accuracy: 0.7920\n",
            "Epoch 25/25\n",
            "250/250 [==============================] - 37s 150ms/step - loss: 0.2030 - accuracy: 0.9183 - val_loss: 0.5938 - val_accuracy: 0.7965\n"
          ],
          "name": "stdout"
        },
        {
          "output_type": "execute_result",
          "data": {
            "text/plain": [
              "<tensorflow.python.keras.callbacks.History at 0x7f1375133510>"
            ]
          },
          "metadata": {
            "tags": []
          },
          "execution_count": 27
        }
      ]
    },
    {
      "cell_type": "markdown",
      "metadata": {
        "id": "arO1yToMscwc"
      },
      "source": [
        "**Prediction**"
      ]
    },
    {
      "cell_type": "code",
      "metadata": {
        "id": "KkVXZ5XRqync"
      },
      "source": [
        "#%%\n",
        "#making prediction\n",
        "import numpy as np\n",
        "from keras.preprocessing import image\n",
        "test_image = image.load_img('/content/drive/MyDrive/Colab Notebooks/data/dataset/single_prediction/cat_or_dog_1.jpg', target_size = (64, 64))\n",
        "test_image = image.img_to_array(test_image)\n",
        "test_image = np.expand_dims(test_image, axis = 0)\n",
        "result = cnn.predict(test_image)\n",
        "training_set.class_indices\n",
        "if result[0][0] == 1:\n",
        "    prediction = 'dog'\n",
        "else:\n",
        "    prediction = 'cat'"
      ],
      "execution_count": null,
      "outputs": []
    },
    {
      "cell_type": "code",
      "metadata": {
        "colab": {
          "base_uri": "https://localhost:8080/"
        },
        "id": "nGTMhrW5qysY",
        "outputId": "bd8f2aab-4977-49c0-be5b-d88f48e95564"
      },
      "source": [
        "#%%\n",
        "print(prediction)"
      ],
      "execution_count": null,
      "outputs": [
        {
          "output_type": "stream",
          "text": [
            "dog\n"
          ],
          "name": "stdout"
        }
      ]
    }
  ]
}